{
 "cells": [
  {
   "cell_type": "markdown",
   "metadata": {},
   "source": [
    "함수 실행 시간을 측정하는 데코레이터 timer_decorator를 작성하세요. \n",
    "\n",
    "임의의 함수가 실행되는 시간을 측정하여 \"함수 실행 시간: x.xx초\" 형태로 출력하세요."
   ]
  },
  {
   "cell_type": "code",
   "execution_count": 1,
   "metadata": {},
   "outputs": [
    {
     "name": "stdout",
     "output_type": "stream",
     "text": [
      "함수 실행 시간: 0.06초\n",
      "499999500000\n"
     ]
    }
   ],
   "source": [
    "import time\n",
    "\n",
    "def timer_decorator(func):\n",
    "    def wrapper(*args, **kwargs):\n",
    "        # 시작 시간 기록\n",
    "        start_time = time.time()\n",
    "        \n",
    "        # 함수 실행\n",
    "        result = func(*args, **kwargs)\n",
    "        \n",
    "        # 종료 시간 기록\n",
    "        end_time = time.time()\n",
    "        \n",
    "        # 실행 시간 계산\n",
    "        execution_time = end_time - start_time\n",
    "        \n",
    "        # 실행 시간 출력\n",
    "        print(f\"함수 실행 시간: {execution_time:.2f}초\")\n",
    "        \n",
    "        return result\n",
    "    return wrapper\n",
    "\n",
    "# 테스트할 함수\n",
    "@timer_decorator\n",
    "def sample_function(n):\n",
    "    total = 0\n",
    "    for i in range(n):\n",
    "        total += i\n",
    "    return total\n",
    "\n",
    "# 함수 호출\n",
    "print(sample_function(1000000))\n"
   ]
  },
  {
   "cell_type": "markdown",
   "metadata": {},
   "source": []
  }
 ],
 "metadata": {
  "kernelspec": {
   "display_name": "Python 3",
   "language": "python",
   "name": "python3"
  },
  "language_info": {
   "codemirror_mode": {
    "name": "ipython",
    "version": 3
   },
   "file_extension": ".py",
   "mimetype": "text/x-python",
   "name": "python",
   "nbconvert_exporter": "python",
   "pygments_lexer": "ipython3",
   "version": "3.9.6"
  }
 },
 "nbformat": 4,
 "nbformat_minor": 2
}
