{
 "cells": [
  {
   "cell_type": "markdown",
   "metadata": {},
   "source": [
    "여러분이 자주 사용하는 수학적 연산<br>\n",
    "(예: 삼각형 넓이, 원의 넓이, 직육면체의 넓이)을 수행하는 함수들을 포함하는 mymath.py라는 이름의 모듈을 만드세요. \n",
    "\n",
    "이 모듈을 사용하여 작성된 함수들을 실제로 임포트하고 사용하는 간단한 프로그램을 작성하세요."
   ]
  },
  {
   "cell_type": "code",
   "execution_count": null,
   "metadata": {},
   "outputs": [],
   "source": [
    "\n",
    "import math\n",
    "\n",
    "def triangle_area(base, height):\n",
    "    \"\"\"삼각형의 넓이를 계산합니다.\"\"\"\n",
    "    return 0.5 * base * height\n",
    "\n",
    "def circle_area(radius):\n",
    "    \"\"\"원의 넓이를 계산합니다.\"\"\"\n",
    "    return math.pi * radius ** 2\n",
    "\n",
    "def rectangular_prism_surface_area(length, width, height):\n",
    "    \"\"\"직육면체의 표면적을 계산합니다.\"\"\"\n",
    "    return 2 * (length * width + width * height + height * length)"
   ]
  },
  {
   "cell_type": "code",
   "execution_count": null,
   "metadata": {},
   "outputs": [],
   "source": [
    "\n",
    "import mymath\n",
    "\n",
    "def main():\n",
    "    # 삼각형의 넓이 계산\n",
    "    base = 5\n",
    "    height = 10\n",
    "    triangle_area = mymath.triangle_area(base, height)\n",
    "    print(f\"삼각형의 넓이 (밑변 {base}, 높이 {height}): {triangle_area}\")\n",
    "\n",
    "    # 원의 넓이 계산\n",
    "    radius = 7\n",
    "    circle_area = mymath.circle_area(radius)\n",
    "    print(f\"원의 넓이 (반지름 {radius}): {circle_area}\")\n",
    "\n",
    "    # 직육면체의 표면적 계산\n",
    "    length = 4\n",
    "    width = 5\n",
    "    height = 6\n",
    "    prism_area = mymath.rectangular_prism_surface_area(length, width, height)\n",
    "    print(f\"직육면체의 표면적 (길이 {length}, 너비 {width}, 높이 {height}): {prism_area}\")\n",
    "\n",
    "if __name__ == \"__main__\":\n",
    "    main()\n"
   ]
  },
  {
   "cell_type": "markdown",
   "metadata": {},
   "source": []
  }
 ],
 "metadata": {
  "kernelspec": {
   "display_name": "Python 3",
   "language": "python",
   "name": "python3"
  },
  "language_info": {
   "name": "python",
   "version": "3.9.6"
  }
 },
 "nbformat": 4,
 "nbformat_minor": 2
}
