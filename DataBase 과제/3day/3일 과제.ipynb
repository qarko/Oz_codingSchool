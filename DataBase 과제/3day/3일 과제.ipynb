{
 "cells": [
  {
   "cell_type": "markdown",
   "metadata": {},
   "source": [
    "-- USE testdatabase;\n",
    "\n",
    "-- -- CREATE TABLE employees(\n",
    "-- -- \tid INT PRIMARY KEY AUTO_INCREMENT,\n",
    "-- --     name VARCHAR(100),\n",
    "-- --     position VARCHAR(100),\n",
    "-- --     salary DECIMAL(10, 2)\n",
    "-- -- );\n",
    "\n",
    "-- -- INSERT INTO employees (name, position, salary) VALUES \n",
    "-- -- ('혜린', 'PM', 9000),\n",
    "-- -- ('은우', 'Frontend', 80000),\n",
    "-- -- ('가을', 'Backend', 92000),\n",
    "-- -- ('지수', 'Frontend', 78000),\n",
    "-- -- ('민혁', 'Frontend', 96000),\n",
    "-- -- ('하은', 'Backend', 130000);\n",
    "\n",
    "-- -- SELECT name, salary FROM employees;\n",
    "\n",
    "-- -- SELECT name, salary FROM employees \n",
    "-- -- WHERE position = 'Frontend'\n",
    "-- -- AND salary <= 90000;\n",
    "\n",
    "-- -- UPDATE employees \n",
    "-- -- SET salary = salary * 1.10 \n",
    "-- -- WHERE position = 'PM';\n",
    "\n",
    "-- -- SELECT name, salary FROM employees WHERE position = 'PM';\n",
    "\n",
    "-- -- UPDATE employees\n",
    "-- -- SET salary = salary * 1.05\n",
    "-- -- WHERE position = 'Backend'\n",
    "\n",
    "-- -- DELETE FROM employees WHERE name = '민혁';\n",
    "\n",
    "-- SELECT position, AVG(salary) AS average_salary FROM employees GROUP BY position;\n",
    "\n",
    "\n",
    "-- DROP TABLE employees;"
   ]
  }
 ],
 "metadata": {
  "language_info": {
   "name": "python"
  }
 },
 "nbformat": 4,
 "nbformat_minor": 2
}
