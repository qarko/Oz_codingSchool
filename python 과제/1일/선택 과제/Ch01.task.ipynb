{
 "cells": [
  {
   "cell_type": "markdown",
   "metadata": {},
   "source": [
    "<span style=\"font-size:100%\">\n",
    "\n",
    "수업은 모두 열심히 들으셨나요?\n",
    "\n",
    "간혹 강의에서 언급되지 않은 내용이 문제로 나올 수 있습니다.<br>\n",
    "그럴땐 강의 내용 외 문제는 구글링을 통해 해결해주세요<br></span>\n",
    "<span style=\"font-size:80%\">\n",
    "(구글링 또한 개발자가 갖쳐야할 역량 중에 하나랍니다 😊)\n",
    "</span>\n",
    "\n",
    "---"
   ]
  },
  {
   "cell_type": "markdown",
   "metadata": {},
   "source": [
    "<span style=\"font-size:80%\">[문제1]<br><br></span>\n",
    "```인터프리트 방식에 대해 설명하고 2개 이상의 장점을 설명해주세요```"
   ]
  },
  {
   "cell_type": "markdown",
   "metadata": {},
   "source": [
    "<span style=\"color:red\">답변</span>"
   ]
  },
  {
   "cell_type": "markdown",
   "metadata": {},
   "source": [
    "인터프리트 언어(interpreted language)는 실행 즉시 인터프리터를 거쳐서 실행되는 프로그래밍 언어이다 문 단위로 코드를 한 줄씩 읽어서 바로 실행하는 방식으로 동작하는 언어를 말합니다. 빌드 과정을 거치지 않기 때문에, 별도의 실행 파일이 존재하지 않다는 특징이 있습니다\n",
    "1. 인터프리터 언어는 빌드 과정이 없고, 바로 실행이 가능하므로 코드 수정에 용이하고 전체적인 개발 기간이 비교적 적다는 장점이 있습니다\n",
    "2. 플랫폼에 독립적이기 때문에 각 플랫폼에 지원하는 인터프리터만 있다면 실행 가능하다는 장점이 있습니다.\n",
    "3. 개발과 테스트가 빠르다 입니다."
   ]
  },
  {
   "cell_type": "markdown",
   "metadata": {},
   "source": [
    "---"
   ]
  },
  {
   "cell_type": "markdown",
   "metadata": {},
   "source": [
    "<span style=\"font-size:80%\">[문제2]<br><br></span>\n",
    "```동적 타입 방식의 장점과 단점을 간략히 설명해주세요```"
   ]
  },
  {
   "cell_type": "markdown",
   "metadata": {},
   "source": [
    "<span style=\"color:red\">답변</span>"
   ]
  },
  {
   "cell_type": "markdown",
   "metadata": {},
   "source": [
    "동적 타입 (Dynamic Typing): 변수의 타입이 실행 시간에 결정되며, 실행 중에도 타입이 변경 가능\n",
    "장점 : 1.유연성: 실행 시간에 타입이 결정되기 때문에 동적으로 변수의 타입을 변경할 수 있어 유연성이 높다.\n",
    "      2.간단한 문법: 타입 선언이 없거나 간소화되어 코드가 간결할 수 있다.\n",
    "      3.빠른 프로토타이핑: 초기 개발 속도가 빠르며 코드 작성이 간단할 수 있다.\n",
    "단점 : 1.런타임 에러: 실행 중에 타입 관련 오류가 발생할 수 있으며, 이는 실행 시간에만 감지된다.\n",
    "      2.코드 예측 어려움: 타입 정보가 부족하면 코드를 이해하고 예측하기 어려울 수 있다.\n",
    "      3.성능 감소: 동적 타입 언어는 런타임에 타입 체크를 수행하므로 성능이 상대적으로 느릴 수 있다."
   ]
  },
  {
   "cell_type": "markdown",
   "metadata": {},
   "source": [
    "---"
   ]
  },
  {
   "cell_type": "markdown",
   "metadata": {},
   "source": [
    "<span style=\"font-size:80%\">[문제3]<br><br></span>\n",
    "```Python으로 정적타입 방식의 코드를 작성할 수 있는 방법을 구글링을 통해 검색 후 설명해주세요```"
   ]
  },
  {
   "cell_type": "markdown",
   "metadata": {},
   "source": [
    "<span style=\"color:red\">답변</span>"
   ]
  },
  {
   "cell_type": "markdown",
   "metadata": {},
   "source": [
    "바로 타입 어노테이션이다. 이 글에 의하면 파이썬 버전 3.5부터 타입 어노테이션(또는 힌트)가 추가되었다고 한다. 그것이 typing 모듈로 구현되었다. 그렇게 선언된 정적 타입을 Mypy라는 정적 타입 검사 도구로 검사한다."
   ]
  },
  {
   "cell_type": "markdown",
   "metadata": {},
   "source": [
    "---"
   ]
  },
  {
   "cell_type": "markdown",
   "metadata": {},
   "source": [
    "<span style=\"font-size:80%\">[문제4]<br><br></span>\n",
    "```프로세스와 스레드의 차이점을 설명해주세요```"
   ]
  },
  {
   "cell_type": "markdown",
   "metadata": {},
   "source": [
    "<span style=\"color:red\">답변</span>"
   ]
  },
  {
   "cell_type": "markdown",
   "metadata": {},
   "source": [
    "프로세스: 운영체제로부터 자원을 할당받은 작업의 단위.\n",
    "스레드: 프로세스가 할당받은 자원을 이용하는 실행 흐름의 단위.\n",
    "\n",
    "프로세스와 스레드는 개념의 범위부터 다르다. 스레드는 프로세스 안에 포함되어 있기 때문이다.\n",
    "\n",
    "운영체제가 프로세스에게 Code/Data/Stack/Heap 메모리 영역을 할당해 주고 최소 작업 단위로 삼는 반면, 스레드는 프로세스 내에서 Stack 메모리 영역을 제외한 다른 메모리 영역을 같은 프로세스 내 다른 스레드와 공유한다.\n",
    "\n",
    "프로세스는 다른 프로세스와 정보를 공유하려면 IPC를 사용하는 등의 번거로운 과정을 거쳐야 하지만, 스레드는 기본 구조 자체가 메모리를 공유하는 구조이기 때문에 다른 스레드와 정보 공유가 쉽다. 때문에 멀티태스킹보다 멀티스레드가 자원을 아낄 수 있게 된다. 다만 스레드의 스케줄링은 운영체제가 처리하지 않기 때문에 프로그래머가 직접 동기화 문제에 대응할 수 있어야 한다."
   ]
  },
  {
   "cell_type": "markdown",
   "metadata": {},
   "source": [
    "---"
   ]
  },
  {
   "cell_type": "markdown",
   "metadata": {},
   "source": [
    "<span style=\"font-size:80%\">[문제5]<br><br></span>\n",
    "```Python 2버전대와 3버전대의 차이를 성명해주세요```"
   ]
  },
  {
   "cell_type": "markdown",
   "metadata": {},
   "source": [
    "<span style=\"color:red\">답변</span>"
   ]
  },
  {
   "cell_type": "markdown",
   "metadata": {},
   "source": [
    "1.Python 2와 Python 3는 라이브러리에서 차이가 있는데, 호환되지 않는 경우도 더러 존재합니다.\n",
    "2.Python 3가 Unicode를 처리함에 더욱 편리합니다.\n",
    "3.Python 3가 향상된 정수 나눗셈 기능을 가지고 있습니다.\n",
    "4.두 버전은 print 명령어 문법이 다릅니다.\n",
    "5.Python 2에서는 xrange와 range를 모두 사용했지만, Python 3에서는 range만 사용합니다.\n"
   ]
  },
  {
   "cell_type": "markdown",
   "metadata": {},
   "source": [
    "---"
   ]
  },
  {
   "cell_type": "markdown",
   "metadata": {},
   "source": [
    "<span style=\"font-size:80%\">[문제6]<br><br></span>\n",
    "```Python에서 메모리 관리는 어떻게 이루어지는지 설명해주세요```"
   ]
  },
  {
   "cell_type": "markdown",
   "metadata": {},
   "source": [
    "<span style=\"color:red\">답변</span>"
   ]
  },
  {
   "cell_type": "markdown",
   "metadata": {},
   "source": [
    "파이썬은 프로그래머가 메모리의 할당과 해제를 명시적으로 수행하지 않는 만큼 객체가 더 이상 사용되지 않으면 알아서 해당 객체를 메모리에서 해제해야 합니다.이를 위해 파이썬은 레퍼런스 카운팅과 가비지 컬렉션의 두가지 방법을 모두 사용합니다. "
   ]
  }
 ],
 "metadata": {
  "language_info": {
   "name": "python"
  }
 },
 "nbformat": 4,
 "nbformat_minor": 2
}
