{
 "cells": [
  {
   "cell_type": "markdown",
   "metadata": {},
   "source": [
    "문자열 리스트를 받아, 각 문자열의 길이를 출력하는 함수 print_lengths를 작성하세요."
   ]
  },
  {
   "cell_type": "code",
   "execution_count": 9,
   "metadata": {},
   "outputs": [
    {
     "name": "stdout",
     "output_type": "stream",
     "text": [
      "'나는'의 길이: 2\n",
      "'정수용'의 길이: 3\n",
      "'입니다'의 길이: 3\n"
     ]
    }
   ],
   "source": [
    "def print_lengths(string_list):\n",
    "    for string in string_list:\n",
    "        print(f\"'{string}'의 길이: {len(string)}\")\n",
    "\n",
    "string_list = input(\"길이를 구하려는 문자열을 입력해주세요.\").split(',')\n",
    "print_lengths(string_list)"
   ]
  },
  {
   "cell_type": "markdown",
   "metadata": {},
   "source": []
  }
 ],
 "metadata": {
  "kernelspec": {
   "display_name": "Python 3",
   "language": "python",
   "name": "python3"
  },
  "language_info": {
   "codemirror_mode": {
    "name": "ipython",
    "version": 3
   },
   "file_extension": ".py",
   "mimetype": "text/x-python",
   "name": "python",
   "nbconvert_exporter": "python",
   "pygments_lexer": "ipython3",
   "version": "3.9.6"
  }
 },
 "nbformat": 4,
 "nbformat_minor": 2
}
