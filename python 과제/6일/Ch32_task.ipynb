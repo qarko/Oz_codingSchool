{
 "cells": [
  {
   "cell_type": "markdown",
   "metadata": {},
   "source": [
    "두 문자열을 받아서 긴 문자열을 반환하는 함수 longer_string을 작성하세요. 만약 두 문자열의 길이가 같다면, 첫 번째 문자열을 반환하세요."
   ]
  },
  {
   "cell_type": "code",
   "execution_count": 8,
   "metadata": {},
   "outputs": [
    {
     "name": "stdout",
     "output_type": "stream",
     "text": [
      "길이가 긴 문자열은 <function longer_string at 0x105fc9af0> 입니다.\n"
     ]
    }
   ],
   "source": [
    "def longer_string(str1, str2): \n",
    "    if len(str1) >= len(str2):\n",
    "        return str1\n",
    "    else:\n",
    "        return str2\n",
    "\n",
    "string_list = input(\"길이를 비교할 두 문자를 입력해주세요(','를 사용해 구분해주세요)\").split(',')\n",
    "print((f\"길이가 긴 문자열은 {longer_string} 입니다.\"))\n",
    "\n",
    "# <function longer_string at 0x105fc9af0> 를 변경하는걸 본거 같은데 기억이 안나네요.."
   ]
  },
  {
   "cell_type": "markdown",
   "metadata": {},
   "source": []
  }
 ],
 "metadata": {
  "kernelspec": {
   "display_name": "Python 3",
   "language": "python",
   "name": "python3"
  },
  "language_info": {
   "codemirror_mode": {
    "name": "ipython",
    "version": 3
   },
   "file_extension": ".py",
   "mimetype": "text/x-python",
   "name": "python",
   "nbconvert_exporter": "python",
   "pygments_lexer": "ipython3",
   "version": "3.9.6"
  }
 },
 "nbformat": 4,
 "nbformat_minor": 2
}
