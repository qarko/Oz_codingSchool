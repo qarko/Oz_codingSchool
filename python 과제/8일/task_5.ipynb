{
 "cells": [
  {
   "cell_type": "markdown",
   "metadata": {},
   "source": [
    "[문제]\n",
    "\n",
    "'Account' 클래스를 작성하세요. \n",
    "\n",
    "이 클래스는 소유자(owner)와 잔액(balance)을 속성으로 가지며, 잔액은 프라이빗 변수로 선언합니다. \n",
    "\n",
    "'deposit'와 'withdraw' 두 개의 메소드를 통해 잔액을 조작할 수 있도록 하세요. \n",
    "\n",
    "이 때, 잔액은 음수가 될 수 없도록 체크해야 합니다. 'Account' 객체를 생성하고,<br>\n",
    "입금 및 출금 작업을 시뮬레이션한 후, 최종 잔액을 출력하세요."
   ]
  },
  {
   "cell_type": "code",
   "execution_count": 1,
   "metadata": {},
   "outputs": [
    {
     "name": "stdout",
     "output_type": "stream",
     "text": [
      "50000원이 입금되었습니다. 잔액: 150000원\n",
      "20000원이 출금되었습니다. 잔액: 130000원\n",
      "잔액이 부족합니다.\n",
      "입금액은 양수여야 합니다.\n",
      "출금액은 양수여야 합니다.\n",
      "최종 잔액: 130000원\n"
     ]
    }
   ],
   "source": [
    "class Account:\n",
    "    def __init__(self, owner, balance):\n",
    "        self.owner = owner\n",
    "        self.__balance = balance\n",
    "    \n",
    "    def deposit(self, amount):\n",
    "        if amount > 0:\n",
    "            self.__balance += amount\n",
    "            print(f\"{amount}원이 입금되었습니다. 잔액: {self.__balance}원\")\n",
    "        else:\n",
    "            print(\"입금액은 양수여야 합니다.\")\n",
    "    \n",
    "    def withdraw(self, amount):\n",
    "        if amount > 0:\n",
    "            if self.__balance >= amount:\n",
    "                self.__balance -= amount\n",
    "                print(f\"{amount}원이 출금되었습니다. 잔액: {self.__balance}원\")\n",
    "            else:\n",
    "                print(\"잔액이 부족합니다.\")\n",
    "        else:\n",
    "            print(\"출금액은 양수여야 합니다.\")\n",
    "    \n",
    "    def get_balance(self):\n",
    "        return self.__balance\n",
    "\n",
    "# Account 객체 생성\n",
    "account = Account(owner=\"홍길동\", balance=100000)\n",
    "\n",
    "# 입금 및 출금 작업 시뮬레이션\n",
    "account.deposit(50000)\n",
    "account.withdraw(20000)\n",
    "account.withdraw(200000)  # 잔액 부족 테스트\n",
    "account.deposit(-10000)  # 잘못된 입금 테스트\n",
    "account.withdraw(-5000)  # 잘못된 출금 테스트\n",
    "\n",
    "# 최종 잔액 출력\n",
    "print(f\"최종 잔액: {account.get_balance()}원\")\n"
   ]
  }
 ],
 "metadata": {
  "kernelspec": {
   "display_name": "Python 3",
   "language": "python",
   "name": "python3"
  },
  "language_info": {
   "codemirror_mode": {
    "name": "ipython",
    "version": 3
   },
   "file_extension": ".py",
   "mimetype": "text/x-python",
   "name": "python",
   "nbconvert_exporter": "python",
   "pygments_lexer": "ipython3",
   "version": "3.9.6"
  }
 },
 "nbformat": 4,
 "nbformat_minor": 2
}
